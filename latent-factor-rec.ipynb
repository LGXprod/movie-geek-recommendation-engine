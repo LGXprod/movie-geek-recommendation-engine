{
 "cells": [
  {
   "cell_type": "code",
   "execution_count": 1,
   "metadata": {},
   "outputs": [
    {
     "name": "stdout",
     "output_type": "stream",
     "text": [
      "WARNING:tensorflow:From C:\\Users\\mattg_3roa89k\\anaconda3\\lib\\site-packages\\tensorflow\\python\\compat\\v2_compat.py:107: disable_resource_variables (from tensorflow.python.ops.variable_scope) is deprecated and will be removed in a future version.\n",
      "Instructions for updating:\n",
      "non-resource variables are not supported in the long term\n"
     ]
    }
   ],
   "source": [
    "import json\n",
    "import pandas as pd\n",
    "import numpy as np\n",
    "import tensorflow.compat.v1 as tf\n",
    "tf.disable_v2_behavior()"
   ]
  },
  {
   "cell_type": "code",
   "execution_count": 2,
   "metadata": {},
   "outputs": [
    {
     "name": "stderr",
     "output_type": "stream",
     "text": [
      "C:\\Users\\mattg_3roa89k\\AppData\\Local\\Temp\\ipykernel_23752\\3584907209.py:2: FutureWarning: In a future version of pandas all arguments of DataFrame.drop except for the argument 'labels' will be keyword-only\n",
      "  ratings_df = ratings_df.drop(\"timestamp\", 1)\n"
     ]
    },
    {
     "data": {
      "text/html": [
       "<div>\n",
       "<style scoped>\n",
       "    .dataframe tbody tr th:only-of-type {\n",
       "        vertical-align: middle;\n",
       "    }\n",
       "\n",
       "    .dataframe tbody tr th {\n",
       "        vertical-align: top;\n",
       "    }\n",
       "\n",
       "    .dataframe thead th {\n",
       "        text-align: right;\n",
       "    }\n",
       "</style>\n",
       "<table border=\"1\" class=\"dataframe\">\n",
       "  <thead>\n",
       "    <tr style=\"text-align: right;\">\n",
       "      <th></th>\n",
       "      <th>userId</th>\n",
       "      <th>movieId</th>\n",
       "      <th>rating</th>\n",
       "    </tr>\n",
       "  </thead>\n",
       "  <tbody>\n",
       "    <tr>\n",
       "      <th>0</th>\n",
       "      <td>1</td>\n",
       "      <td>2</td>\n",
       "      <td>3.5</td>\n",
       "    </tr>\n",
       "    <tr>\n",
       "      <th>1</th>\n",
       "      <td>1</td>\n",
       "      <td>29</td>\n",
       "      <td>3.5</td>\n",
       "    </tr>\n",
       "    <tr>\n",
       "      <th>2</th>\n",
       "      <td>1</td>\n",
       "      <td>32</td>\n",
       "      <td>3.5</td>\n",
       "    </tr>\n",
       "    <tr>\n",
       "      <th>3</th>\n",
       "      <td>1</td>\n",
       "      <td>47</td>\n",
       "      <td>3.5</td>\n",
       "    </tr>\n",
       "    <tr>\n",
       "      <th>4</th>\n",
       "      <td>1</td>\n",
       "      <td>50</td>\n",
       "      <td>3.5</td>\n",
       "    </tr>\n",
       "    <tr>\n",
       "      <th>...</th>\n",
       "      <td>...</td>\n",
       "      <td>...</td>\n",
       "      <td>...</td>\n",
       "    </tr>\n",
       "    <tr>\n",
       "      <th>20000258</th>\n",
       "      <td>138493</td>\n",
       "      <td>68954</td>\n",
       "      <td>4.5</td>\n",
       "    </tr>\n",
       "    <tr>\n",
       "      <th>20000259</th>\n",
       "      <td>138493</td>\n",
       "      <td>69526</td>\n",
       "      <td>4.5</td>\n",
       "    </tr>\n",
       "    <tr>\n",
       "      <th>20000260</th>\n",
       "      <td>138493</td>\n",
       "      <td>69644</td>\n",
       "      <td>3.0</td>\n",
       "    </tr>\n",
       "    <tr>\n",
       "      <th>20000261</th>\n",
       "      <td>138493</td>\n",
       "      <td>70286</td>\n",
       "      <td>5.0</td>\n",
       "    </tr>\n",
       "    <tr>\n",
       "      <th>20000262</th>\n",
       "      <td>138493</td>\n",
       "      <td>71619</td>\n",
       "      <td>2.5</td>\n",
       "    </tr>\n",
       "  </tbody>\n",
       "</table>\n",
       "<p>20000263 rows × 3 columns</p>\n",
       "</div>"
      ],
      "text/plain": [
       "          userId  movieId  rating\n",
       "0              1        2     3.5\n",
       "1              1       29     3.5\n",
       "2              1       32     3.5\n",
       "3              1       47     3.5\n",
       "4              1       50     3.5\n",
       "...          ...      ...     ...\n",
       "20000258  138493    68954     4.5\n",
       "20000259  138493    69526     4.5\n",
       "20000260  138493    69644     3.0\n",
       "20000261  138493    70286     5.0\n",
       "20000262  138493    71619     2.5\n",
       "\n",
       "[20000263 rows x 3 columns]"
      ]
     },
     "execution_count": 2,
     "metadata": {},
     "output_type": "execute_result"
    }
   ],
   "source": [
    "ratings_df = pd.read_csv(\"./dataset/ratings.csv\")\n",
    "ratings_df = ratings_df.drop(\"timestamp\", 1)\n",
    "ratings_df = ratings_df.fillna(0)\n",
    "ratings_df"
   ]
  },
  {
   "cell_type": "code",
   "execution_count": 3,
   "metadata": {},
   "outputs": [
    {
     "data": {
      "text/plain": [
       "userId       int64\n",
       "movieId      int64\n",
       "rating     float64\n",
       "dtype: object"
      ]
     },
     "execution_count": 3,
     "metadata": {},
     "output_type": "execute_result"
    }
   ],
   "source": [
    "ratings_df.dtypes"
   ]
  },
  {
   "cell_type": "code",
   "execution_count": 4,
   "metadata": {},
   "outputs": [],
   "source": [
    "ratings_df_length = len(ratings_df.index)"
   ]
  },
  {
   "cell_type": "code",
   "execution_count": 5,
   "metadata": {},
   "outputs": [],
   "source": [
    "def dictToJSONFile(filePath, dictionary):\n",
    "    with open(filePath, 'w') as fp:\n",
    "        json.dump(dictionary, fp, indent=2)"
   ]
  },
  {
   "cell_type": "code",
   "execution_count": 6,
   "metadata": {},
   "outputs": [],
   "source": [
    "isRatingsMatrixSaved = True"
   ]
  },
  {
   "cell_type": "code",
   "execution_count": 7,
   "metadata": {},
   "outputs": [],
   "source": [
    "ratings_matrix = None\n",
    "movie_ids = {} # key: movieId, value: movie_id index in user_movie_ratings\n",
    "user_ids = {} # key: userId, value: movie_id index in user_movie_ratings\n",
    "ratings_matrix = None\n",
    "\n",
    "if not isRatingsMatrixSaved:\n",
    "    # 138493 distinct users, 26744 distinct movies (from EDA notebook)\n",
    "    ratings_matrix = np.zeros((138493, 26744), dtype=np.float32)\n",
    "\n",
    "    for i, row in ratings_df.iterrows():\n",
    "        user_id = row[\"userId\"]\n",
    "        movie_id = row[\"movieId\"]\n",
    "        rating = row[\"rating\"]\n",
    "\n",
    "        if not user_id in user_ids:\n",
    "            user_ids[user_id] = len(user_ids)\n",
    "\n",
    "        if not movie_id in movie_ids:\n",
    "            movie_ids[movie_id] = len(movie_ids)\n",
    "\n",
    "        ratings_matrix[user_ids[user_id], movie_ids[movie_id]] = rating\n",
    "\n",
    "        print(\"{0} / {1}\".format(i, ratings_df_length), end = \"\\r\")\n",
    "\n",
    "    np.save('ratings_matrix.npy', ratings_matrix) # save\n",
    "    dictToJSONFile(\"movie_ids.json\", movie_ids)\n",
    "    dictToJSONFile(\"user_ids.json\", user_ids)\n",
    "else:\n",
    "    ratings_matrix = np.load('ratings_matrix.npy') # load\n",
    "\n",
    "    # movie_ids.json will used a str float when generated above\n",
    "    # use vs code replace all function on .0 to make it just the int id\n",
    "    with open('movie_ids.json', 'r') as fp:\n",
    "        movie_ids = json.load(fp)\n",
    "\n",
    "    with open('user_ids.json', 'r') as fp:\n",
    "        user_ids = json.load(fp)"
   ]
  },
  {
   "cell_type": "code",
   "execution_count": null,
   "metadata": {},
   "outputs": [],
   "source": [
    "movie_ids_list = [x for _, x in sorted(zip(list(movie_ids.values()), list(map(int, map(float, movie_ids.keys())))))]\n",
    "\n",
    "dictToJSONFile(\"./movie_ids_list.json\", movie_ids_list)"
   ]
  },
  {
   "cell_type": "code",
   "execution_count": 8,
   "metadata": {},
   "outputs": [],
   "source": [
    "K = 10\n",
    "ratings = ratings_matrix[:10000, :5000]\n",
    "R = ratings"
   ]
  },
  {
   "cell_type": "code",
   "execution_count": 9,
   "metadata": {},
   "outputs": [
    {
     "data": {
      "text/plain": [
       "(10000, 5000)"
      ]
     },
     "execution_count": 9,
     "metadata": {},
     "output_type": "execute_result"
    }
   ],
   "source": [
    "R.shape"
   ]
  },
  {
   "cell_type": "code",
   "execution_count": 10,
   "metadata": {},
   "outputs": [
    {
     "data": {
      "text/plain": [
       "array([[3.5, 3.5, 3.5, ..., 0. , 0. , 0. ],\n",
       "       [0. , 0. , 0. , ..., 0. , 0. , 0. ],\n",
       "       [0. , 0. , 4. , ..., 0. , 0. , 0. ],\n",
       "       ...,\n",
       "       [0. , 0. , 0. , ..., 0. , 0. , 0. ],\n",
       "       [0. , 0. , 2.5, ..., 0. , 0. , 0. ],\n",
       "       [4. , 0. , 0. , ..., 0. , 0. , 0. ]], dtype=float32)"
      ]
     },
     "execution_count": 10,
     "metadata": {},
     "output_type": "execute_result"
    }
   ],
   "source": [
    "R"
   ]
  },
  {
   "cell_type": "code",
   "execution_count": 11,
   "metadata": {},
   "outputs": [
    {
     "data": {
      "text/plain": [
       "dtype('float32')"
      ]
     },
     "execution_count": 11,
     "metadata": {},
     "output_type": "execute_result"
    }
   ],
   "source": [
    "R.dtype"
   ]
  },
  {
   "cell_type": "code",
   "execution_count": 12,
   "metadata": {},
   "outputs": [],
   "source": [
    "N = len(ratings)\n",
    "M = len(ratings[0])\n",
    "P = np.random.rand(N, K)\n",
    "Q = np.random.rand(M, K)\n",
    "ratings = tf.placeholder(tf.float32, name=\"ratings\")\n",
    "P_matrix = tf.Variable(P, dtype=tf.float32)\n",
    "Q_matrix = tf.Variable(Q, dtype=tf.float32)\n",
    "P_times_Q = tf.matmul(P_matrix, Q_matrix, transpose_b=True)\n",
    "squared_error = tf.square(P_times_Q - ratings)\n",
    "loss = tf.reduce_sum(squared_error)"
   ]
  },
  {
   "cell_type": "code",
   "execution_count": 13,
   "metadata": {},
   "outputs": [
    {
     "data": {
      "text/plain": [
       "<tf.Tensor 'MatMul:0' shape=(10000, 5000) dtype=float32>"
      ]
     },
     "execution_count": 13,
     "metadata": {},
     "output_type": "execute_result"
    }
   ],
   "source": [
    "P_times_Q"
   ]
  },
  {
   "cell_type": "code",
   "execution_count": 14,
   "metadata": {},
   "outputs": [],
   "source": [
    "optimizer = tf.train.GradientDescentOptimizer(0.000001) # had to decrease the learning rate significantly\n",
    "train = optimizer.minimize(loss)"
   ]
  },
  {
   "cell_type": "code",
   "execution_count": 15,
   "metadata": {},
   "outputs": [
    {
     "name": "stdout",
     "output_type": "stream",
     "text": [
      "5000 / 5000\r"
     ]
    },
    {
     "data": {
      "text/plain": [
       "'./models/model_1'"
      ]
     },
     "execution_count": 15,
     "metadata": {},
     "output_type": "execute_result"
    }
   ],
   "source": [
    "# gpu_options = tf.GPUOptions(allow_growth=True)\n",
    "# sess = tf.Session(config=tf.ConfigProto(gpu_options=gpu_options))\n",
    "sess = tf.Session()\n",
    "init = tf.global_variables_initializer()\n",
    "sess.run(init)\n",
    "\n",
    "saver = tf.train.Saver()\n",
    "\n",
    "for i in range(5000):\n",
    "    sess.run(train, {ratings: R})\n",
    "    print(\"{0} / {1}\".format(i+1, 5000), end = \"\\r\")\n",
    "\n",
    "saver.save(sess, './models/model_1')"
   ]
  },
  {
   "cell_type": "code",
   "execution_count": 16,
   "metadata": {},
   "outputs": [
    {
     "name": "stdout",
     "output_type": "stream",
     "text": [
      "[[ 0.547  0.395  1.351 ...  0.01   0.025  0.007]\n",
      " [ 0.338  0.121  0.728 ... -0.007  0.015 -0.008]\n",
      " [ 0.29   0.752  1.774 ...  0.095  0.126  0.118]\n",
      " ...\n",
      " [ 0.205  0.235  1.121 ... -0.004  0.003 -0.025]\n",
      " [ 0.488  0.048  1.286 ... -0.044 -0.024 -0.043]\n",
      " [ 1.438 -0.108  1.542 ... -0.039 -0.021  0.011]]\n",
      "\n"
     ]
    }
   ],
   "source": [
    "final_P_times_Q = np.around(sess.run(P_times_Q), 3)\n",
    "print(final_P_times_Q)\n",
    "print()"
   ]
  },
  {
   "cell_type": "code",
   "execution_count": 17,
   "metadata": {},
   "outputs": [
    {
     "name": "stdout",
     "output_type": "stream",
     "text": [
      "[[ 0.218  0.197  0.516 ...  0.337  0.093  0.169]\n",
      " [ 0.252  0.043  0.048 ...  0.206 -0.001  0.059]\n",
      " [ 0.199  0.346  0.845 ...  0.637  0.316  0.705]\n",
      " ...\n",
      " [ 0.153  0.392 -0.062 ...  0.312 -0.071  0.229]\n",
      " [ 0.673 -0.086  0.148 ...  0.482  0.448  0.041]\n",
      " [ 0.495  0.33  -0.235 ...  0.195  0.61   0.493]]\n",
      "\n"
     ]
    }
   ],
   "source": [
    "final_P_matrix = np.around(sess.run(P_matrix), 3)\n",
    "print(final_P_matrix)\n",
    "print()"
   ]
  },
  {
   "cell_type": "code",
   "execution_count": 20,
   "metadata": {},
   "outputs": [
    {
     "name": "stdout",
     "output_type": "stream",
     "text": [
      "[[ 0.63  -0.154  1.172 ... -0.056 -0.097 -0.077]\n",
      " [ 0.237  0.079  0.633 ...  0.006 -0.034 -0.011]\n",
      " [-0.091  0.356  0.147 ...  0.072  0.088  0.091]\n",
      " ...\n",
      " [ 0.19   0.139  0.52  ... -0.033  0.014 -0.035]\n",
      " [ 0.394 -0.034 -0.029 ...  0.029  0.077  0.097]\n",
      " [-0.049  0.19   0.765 ...  0.038 -0.004  0.043]]\n",
      "\n"
     ]
    }
   ],
   "source": [
    "final_Q_matrix = np.transpose(np.around(sess.run(Q_matrix), 3))\n",
    "dictToJSONFile(\"q-matrix.json\", final_Q_matrix.tolist())\n",
    "print(final_Q_matrix)\n",
    "print()"
   ]
  },
  {
   "cell_type": "code",
   "execution_count": 21,
   "metadata": {},
   "outputs": [],
   "source": [
    "new_user_indices = [1, 2, 4, 5]\n",
    "new_user_ratings = [2, 2, 1, 2]"
   ]
  },
  {
   "cell_type": "code",
   "execution_count": 22,
   "metadata": {},
   "outputs": [],
   "source": [
    "new_user_P_row_initial = np.random.rand(1, K)\n",
    "new_user_P_row = tf.Variable(new_user_P_row_initial, dtype=tf.float32)\n",
    "new_user_P_row_times_Q = tf.matmul(new_user_P_row, final_Q_matrix)\n",
    "res = tf.gather(new_user_P_row_times_Q, new_user_indices, axis=1)\n",
    "squared_error = tf.square(new_user_ratings - res)\n",
    "loss = tf.reduce_sum(squared_error)\n",
    "optimizer = tf.train.GradientDescentOptimizer(0.01)\n",
    "predict = optimizer.minimize(loss)"
   ]
  },
  {
   "cell_type": "code",
   "execution_count": 24,
   "metadata": {},
   "outputs": [
    {
     "name": "stdout",
     "output_type": "stream",
     "text": [
      "50000 / 50000\r"
     ]
    }
   ],
   "source": [
    "sess = tf.Session()\n",
    "init = tf.global_variables_initializer()\n",
    "sess.run(init)\n",
    "for i in range(50000):\n",
    "    sess.run(predict)\n",
    "    print(\"{0} / {1}\".format(i+1, 50000), end = \"\\r\")"
   ]
  },
  {
   "cell_type": "code",
   "execution_count": 25,
   "metadata": {},
   "outputs": [
    {
     "name": "stdout",
     "output_type": "stream",
     "text": [
      "[[3. 2. 2. ... 0. 1. 1.]]\n"
     ]
    }
   ],
   "source": [
    "final_new_user_P_row_times_Q = np.around(sess.run(new_user_P_row_times_Q), 3)\n",
    "print(np.round(final_new_user_P_row_times_Q))"
   ]
  }
 ],
 "metadata": {
  "interpreter": {
   "hash": "7f0fc315b6233e34131a3395082305297e6d314386424aa300dcd8596ecd3ed2"
  },
  "kernelspec": {
   "display_name": "Python 3.9.7 ('base')",
   "language": "python",
   "name": "python3"
  },
  "language_info": {
   "codemirror_mode": {
    "name": "ipython",
    "version": 3
   },
   "file_extension": ".py",
   "mimetype": "text/x-python",
   "name": "python",
   "nbconvert_exporter": "python",
   "pygments_lexer": "ipython3",
   "version": "3.9.7"
  },
  "orig_nbformat": 4
 },
 "nbformat": 4,
 "nbformat_minor": 2
}
